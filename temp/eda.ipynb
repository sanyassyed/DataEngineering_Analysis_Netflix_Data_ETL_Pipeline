{
 "cells": [
  {
   "cell_type": "markdown",
   "id": "c36356ad-90d1-4ff8-8a32-941cb67e16ed",
   "metadata": {},
   "source": [
    "# EDA ON NETFLIX DATA\n",
    "Here we will be performing exploratory analysis on Netflix data"
   ]
  },
  {
   "cell_type": "code",
   "execution_count": 1,
   "id": "6b8a06a4-83cd-4ac1-a88a-5a7039bb9522",
   "metadata": {},
   "outputs": [
    {
     "name": "stdout",
     "output_type": "stream",
     "text": [
      "Documentation.md  Untitled.ipynb  postgres_volume\n",
      "README.md\t  eda.ipynb\t  untitled.py\n"
     ]
    }
   ],
   "source": [
    "!ls"
   ]
  },
  {
   "cell_type": "code",
   "execution_count": 2,
   "id": "c6feaaa5-a47a-4212-92fa-c2482af1060e",
   "metadata": {},
   "outputs": [
    {
     "name": "stdout",
     "output_type": "stream",
     "text": [
      "notebook==7.2.2\n",
      "notebook_shim==0.2.4\n"
     ]
    }
   ],
   "source": [
    "# Checking if the notebook is using the system kernel or virtual env kernel\n",
    "!pip freeze | grep notebook"
   ]
  },
  {
   "cell_type": "code",
   "execution_count": 4,
   "id": "e5d5bbce-dc65-41a0-aa27-9fab03a2fabc",
   "metadata": {},
   "outputs": [],
   "source": [
    "import pandas as p"
   ]
  },
  {
   "cell_type": "code",
   "execution_count": 5,
   "id": "1aac94cb-3f8e-49f9-8f0d-1f631d3aa723",
   "metadata": {},
   "outputs": [
    {
     "name": "stdout",
     "output_type": "stream",
     "text": [
      "Test statement\n"
     ]
    }
   ],
   "source": [
    "print('Test statement')"
   ]
  }
 ],
 "metadata": {
  "kernelspec": {
   "display_name": "Python 3 (ipykernel)",
   "language": "python",
   "name": "python3"
  },
  "language_info": {
   "codemirror_mode": {
    "name": "ipython",
    "version": 3
   },
   "file_extension": ".py",
   "mimetype": "text/x-python",
   "name": "python",
   "nbconvert_exporter": "python",
   "pygments_lexer": "ipython3",
   "version": "3.12.5"
  }
 },
 "nbformat": 4,
 "nbformat_minor": 5
}
